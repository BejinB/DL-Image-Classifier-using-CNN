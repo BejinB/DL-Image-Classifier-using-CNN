{
  "nbformat": 4,
  "nbformat_minor": 0,
  "metadata": {
    "colab": {
      "provenance": []
    },
    "kernelspec": {
      "name": "python3",
      "display_name": "Python 3"
    },
    "language_info": {
      "name": "python"
    }
  },
  "cells": [
    {
      "cell_type": "code",
      "execution_count": 1,
      "metadata": {
        "id": "ZJ7VWu3Eaf1v"
      },
      "outputs": [],
      "source": [
        "import torch\n",
        "import torch.nn as nn\n",
        "import torch.nn.functional as F\n",
        "from torch.utils.data import DataLoader\n",
        "from torchvision import datasets, transforms\n",
        "from torchvision.utils import make_grid\n",
        "\n",
        "import numpy as np\n",
        "import pandas as pd\n",
        "from sklearn.metrics import confusion_matrix\n",
        "import matplotlib.pyplot as plt\n",
        "%matplotlib inline"
      ]
    },
    {
      "cell_type": "code",
      "source": [
        "transform = transforms.ToTensor()"
      ],
      "metadata": {
        "id": "0YLmgy6ragYn"
      },
      "execution_count": 2,
      "outputs": []
    },
    {
      "cell_type": "code",
      "source": [
        "train_data = datasets.MNIST(root='../Data', train=True, download=True, transform=transform)"
      ],
      "metadata": {
        "colab": {
          "base_uri": "https://localhost:8080/",
          "height": 0
        },
        "id": "CRowyA_Pat2Z",
        "outputId": "9924a7cc-53f4-40e7-cd47-23ab37f47a82"
      },
      "execution_count": 3,
      "outputs": [
        {
          "output_type": "stream",
          "name": "stderr",
          "text": [
            "100%|██████████| 9.91M/9.91M [00:00<00:00, 54.8MB/s]\n",
            "100%|██████████| 28.9k/28.9k [00:00<00:00, 1.71MB/s]\n",
            "100%|██████████| 1.65M/1.65M [00:00<00:00, 14.8MB/s]\n",
            "100%|██████████| 4.54k/4.54k [00:00<00:00, 5.86MB/s]\n"
          ]
        }
      ]
    },
    {
      "cell_type": "code",
      "source": [
        "test_data = datasets.MNIST(root='../Data', train=False, download=True, transform=transform)"
      ],
      "metadata": {
        "id": "QqckA_pfawQS"
      },
      "execution_count": 4,
      "outputs": []
    },
    {
      "cell_type": "code",
      "source": [
        "train_data"
      ],
      "metadata": {
        "colab": {
          "base_uri": "https://localhost:8080/",
          "height": 0
        },
        "id": "rRjZtutXa0QO",
        "outputId": "f710ca13-3832-4ed4-a963-9e47c75b5e6e"
      },
      "execution_count": 5,
      "outputs": [
        {
          "output_type": "execute_result",
          "data": {
            "text/plain": [
              "Dataset MNIST\n",
              "    Number of datapoints: 60000\n",
              "    Root location: ../Data\n",
              "    Split: Train\n",
              "    StandardTransform\n",
              "Transform: ToTensor()"
            ]
          },
          "metadata": {},
          "execution_count": 5
        }
      ]
    },
    {
      "cell_type": "code",
      "source": [
        "test_data\n"
      ],
      "metadata": {
        "colab": {
          "base_uri": "https://localhost:8080/",
          "height": 0
        },
        "id": "Z_HeVBCEa2Xw",
        "outputId": "8999d798-d2a5-4a9c-fa63-bc702b19fee9"
      },
      "execution_count": 7,
      "outputs": [
        {
          "output_type": "execute_result",
          "data": {
            "text/plain": [
              "Dataset MNIST\n",
              "    Number of datapoints: 10000\n",
              "    Root location: ../Data\n",
              "    Split: Test\n",
              "    StandardTransform\n",
              "Transform: ToTensor()"
            ]
          },
          "metadata": {},
          "execution_count": 7
        }
      ]
    },
    {
      "cell_type": "code",
      "source": [
        "print(\"Bejin\\n212222230021\")"
      ],
      "metadata": {
        "colab": {
          "base_uri": "https://localhost:8080/",
          "height": 0
        },
        "id": "2ZPTIL0Ta7bf",
        "outputId": "04860bc3-75b8-46c5-b11a-2aebd0d4d8df"
      },
      "execution_count": 8,
      "outputs": [
        {
          "output_type": "stream",
          "name": "stdout",
          "text": [
            "Bejin\n",
            "212222230021\n"
          ]
        }
      ]
    },
    {
      "cell_type": "code",
      "source": [
        "train_loader = DataLoader(train_data, batch_size=10, shuffle=True)\n",
        "test_loader = DataLoader(test_data, batch_size=10, shuffle=False)"
      ],
      "metadata": {
        "id": "OGXdCBtsbG5D"
      },
      "execution_count": 9,
      "outputs": []
    },
    {
      "cell_type": "code",
      "source": [
        "class ConvolutionalNetwork(nn.Module):\n",
        "\n",
        "    def __init__(self):\n",
        "        super().__init__()\n",
        "        self.conv1 = nn.Conv2d(1,6,3,1)\n",
        "        self.conv2 = nn.Conv2d(6,16,3,1)\n",
        "        self.fc1 = nn.Linear(5*5*16,120)\n",
        "        self.fc2 = nn.Linear(120,84)\n",
        "        self.fc3 = nn.Linear(84,10)\n",
        "\n",
        "    def forward(self, X):\n",
        "        X = F.relu(self.conv1(X))\n",
        "        X = F.max_pool2d(X, 2, 2)\n",
        "        X = F.relu(self.conv2(X))\n",
        "        X = F.max_pool2d(X, 2, 2)\n",
        "        X = X.view(-1, 5*5*16)\n",
        "        X = F.relu(self.fc1(X))\n",
        "        X = F.relu(self.fc2(X))\n",
        "        X = self.fc3(X)\n",
        "        return F.log_softmax(X, dim=1)"
      ],
      "metadata": {
        "id": "p5qG2QGibKQy"
      },
      "execution_count": 11,
      "outputs": []
    },
    {
      "cell_type": "code",
      "source": [
        "criterion = nn.CrossEntropyLoss()\n",
        "model = ConvolutionalNetwork()\n",
        "optimizer = torch.optim.Adam(model.parameters(), lr=0.001)"
      ],
      "metadata": {
        "id": "Iy9L9ftObPa_"
      },
      "execution_count": 12,
      "outputs": []
    },
    {
      "cell_type": "code",
      "source": [
        "import time\n",
        "start_time = time.time()\n",
        "\n",
        "# Variables ( Trackers)\n",
        "epochs = 5\n",
        "train_losses = []\n",
        "test_losses = []\n",
        "train_correct = []\n",
        "test_correct = []\n",
        "\n",
        "# for loop epochs\n",
        "for i in range(epochs):\n",
        "\n",
        "    trn_corr = 0\n",
        "    tst_corr = 0\n",
        "\n",
        "\n",
        "    # Run the training batches\n",
        "    for b, (X_train, y_train) in enumerate(train_loader):\n",
        "        b+=1\n",
        "\n",
        "        # Apply the model\n",
        "        y_pred = model(X_train)  # we not flatten X-train here\n",
        "        loss = criterion(y_pred, y_train)\n",
        "\n",
        "\n",
        "        predicted = torch.max(y_pred.data, 1)[1]\n",
        "        batch_corr = (predicted == y_train).sum()  # Trure 1 / False 0 sum()\n",
        "        trn_corr += batch_corr\n",
        "\n",
        "        # Update parameters\n",
        "        optimizer.zero_grad()\n",
        "        loss.backward()\n",
        "        optimizer.step()\n",
        "\n",
        "        # Print interim results\n",
        "        if b%600 == 0:\n",
        "            print(f'epoch: {i}  batch: {b} loss: {loss.item()}')\n",
        "\n",
        "    train_losses.append(loss)\n",
        "    train_correct.append(trn_corr)\n",
        "\n",
        "    # Run the testing batches\n",
        "    with torch.no_grad():\n",
        "        for b, (X_test, y_test) in enumerate(test_loader):\n",
        "\n",
        "            # Apply the model\n",
        "            y_val = model(X_test)\n",
        "\n",
        "            # Tally the number of correct predictions\n",
        "            predicted = torch.max(y_val.data, 1)[1]\n",
        "            tst_corr += (predicted == y_test).sum()\n",
        "\n",
        "    loss = criterion(y_val, y_test)\n",
        "    test_losses.append(loss)\n",
        "    test_correct.append(tst_corr)\n",
        "\n",
        "current_time = time.time()\n",
        "total = current_time - start_time\n",
        "print(f'Training took {total/60} minutes')"
      ],
      "metadata": {
        "colab": {
          "base_uri": "https://localhost:8080/",
          "height": 0
        },
        "id": "tZak-BqObXci",
        "outputId": "845fab96-8b75-44d5-e470-f7577108f988"
      },
      "execution_count": 13,
      "outputs": [
        {
          "output_type": "stream",
          "name": "stdout",
          "text": [
            "epoch: 0  batch: 600 loss: 0.2002812623977661\n",
            "epoch: 0  batch: 1200 loss: 0.024762427434325218\n",
            "epoch: 0  batch: 1800 loss: 0.026236509904265404\n",
            "epoch: 0  batch: 2400 loss: 0.026318365707993507\n",
            "epoch: 0  batch: 3000 loss: 0.15263089537620544\n",
            "epoch: 0  batch: 3600 loss: 0.017975157126784325\n",
            "epoch: 0  batch: 4200 loss: 0.16705720126628876\n",
            "epoch: 0  batch: 4800 loss: 0.03769279643893242\n",
            "epoch: 0  batch: 5400 loss: 0.5604040026664734\n",
            "epoch: 0  batch: 6000 loss: 0.015139843337237835\n",
            "epoch: 1  batch: 600 loss: 0.0003496584249660373\n",
            "epoch: 1  batch: 1200 loss: 0.0020942066330462694\n",
            "epoch: 1  batch: 1800 loss: 0.051549576222896576\n",
            "epoch: 1  batch: 2400 loss: 0.015738671645522118\n",
            "epoch: 1  batch: 3000 loss: 0.0013356090057641268\n",
            "epoch: 1  batch: 3600 loss: 0.0003491342649795115\n",
            "epoch: 1  batch: 4200 loss: 0.0034668375737965107\n",
            "epoch: 1  batch: 4800 loss: 0.01620195247232914\n",
            "epoch: 1  batch: 5400 loss: 0.00078009715070948\n",
            "epoch: 1  batch: 6000 loss: 0.00032515544444322586\n",
            "epoch: 2  batch: 600 loss: 0.00110539048910141\n",
            "epoch: 2  batch: 1200 loss: 0.01030050590634346\n",
            "epoch: 2  batch: 1800 loss: 0.12253328412771225\n",
            "epoch: 2  batch: 2400 loss: 0.0003296127251815051\n",
            "epoch: 2  batch: 3000 loss: 2.1623687644023448e-05\n",
            "epoch: 2  batch: 3600 loss: 0.0853961706161499\n",
            "epoch: 2  batch: 4200 loss: 0.0005409353761933744\n",
            "epoch: 2  batch: 4800 loss: 0.004080489277839661\n",
            "epoch: 2  batch: 5400 loss: 0.0006532840779982507\n",
            "epoch: 2  batch: 6000 loss: 0.13100264966487885\n",
            "epoch: 3  batch: 600 loss: 0.002481322968378663\n",
            "epoch: 3  batch: 1200 loss: 0.0030779780354350805\n",
            "epoch: 3  batch: 1800 loss: 0.0026898267678916454\n",
            "epoch: 3  batch: 2400 loss: 0.05695800855755806\n",
            "epoch: 3  batch: 3000 loss: 0.0045832060277462006\n",
            "epoch: 3  batch: 3600 loss: 0.00014740687038283795\n",
            "epoch: 3  batch: 4200 loss: 0.0003451888042036444\n",
            "epoch: 3  batch: 4800 loss: 5.097779649076983e-05\n",
            "epoch: 3  batch: 5400 loss: 0.0005353284068405628\n",
            "epoch: 3  batch: 6000 loss: 0.0007920205825939775\n",
            "epoch: 4  batch: 600 loss: 3.5762659535976127e-06\n",
            "epoch: 4  batch: 1200 loss: 0.0002856959472410381\n",
            "epoch: 4  batch: 1800 loss: 0.0005238080630078912\n",
            "epoch: 4  batch: 2400 loss: 0.505198061466217\n",
            "epoch: 4  batch: 3000 loss: 0.0025862364564090967\n",
            "epoch: 4  batch: 3600 loss: 0.0038717661518603563\n",
            "epoch: 4  batch: 4200 loss: 4.791655737790279e-05\n",
            "epoch: 4  batch: 4800 loss: 0.09909655153751373\n",
            "epoch: 4  batch: 5400 loss: 2.5485982405371033e-05\n",
            "epoch: 4  batch: 6000 loss: 0.00020383167429827154\n",
            "Training took 4.0897625605265295 minutes\n"
          ]
        }
      ]
    },
    {
      "cell_type": "code",
      "source": [
        "train_losses = [t.detach().numpy() for t in train_losses]\n",
        "test_losses = [t.detach().numpy() for t in test_losses]\n",
        "\n",
        "plt.plot(train_losses, label='training loss')\n",
        "plt.plot(test_losses, label='validation loss')\n",
        "plt.title('Loss at the end of each epoch')\n",
        "plt.legend();\n",
        "plt.show()\n",
        ""
      ],
      "metadata": {
        "colab": {
          "base_uri": "https://localhost:8080/",
          "height": 452
        },
        "id": "eQMOpINqbcq0",
        "outputId": "242bf774-f28b-48c4-9d37-298a6e097481"
      },
      "execution_count": 14,
      "outputs": [
        {
          "output_type": "display_data",
          "data": {
            "text/plain": [
              "<Figure size 640x480 with 1 Axes>"
            ],
            "image/png": "[encoded data removed]"
          },
          "metadata": {}
        }
      ]
    },
    {
      "cell_type": "code",
      "source": [
        "print(\"Bejin\\n212222230021\")"
      ],
      "metadata": {
        "colab": {
          "base_uri": "https://localhost:8080/",
          "height": 0
        },
        "id": "8ZPE7OKJbtzI",
        "outputId": "e21271ca-a3ff-40a2-afbc-a77aa1749af2"
      },
      "execution_count": 15,
      "outputs": [
        {
          "output_type": "stream",
          "name": "stdout",
          "text": [
            "Bejin\n",
            "212222230021\n"
          ]
        }
      ]
    },
    {
      "cell_type": "code",
      "source": [
        "plt.plot([t/600 for t in train_correct], label='training accuracy')\n",
        "plt.plot([t/100 for t in test_correct], label='validation accuracy')\n",
        "plt.title('Accuracy at the end of each epoch')\n",
        "plt.legend();\n",
        "plt.show()"
      ],
      "metadata": {
        "colab": {
          "base_uri": "https://localhost:8080/",
          "height": 452
        },
        "id": "0TQOGNHtbxYK",
        "outputId": "9795c70f-c3d6-473d-bbe2-1f6cd5d019f3"
      },
      "execution_count": 16,
      "outputs": [
        {
          "output_type": "display_data",
          "data": {
            "text/plain": [
              "<Figure size 640x480 with 1 Axes>"
            ],
            "image/png": "[encoded data removed]"
          },
          "metadata": {}
        }
      ]
    },
    {
      "cell_type": "code",
      "source": [
        "np.set_printoptions(formatter=dict(int=lambda x: f'{x:4}'))\n",
        "print(np.arange(10).reshape(1,10))\n",
        "print()\n",
        "\n",
        "print(confusion_matrix(predicted.view(-1), y_test.view(-1)))"
      ],
      "metadata": {
        "colab": {
          "base_uri": "https://localhost:8080/",
          "height": 0
        },
        "id": "l0FuwG8fccyy",
        "outputId": "d3cfe769-caa2-4371-a75b-1ecf8ed341f4"
      },
      "execution_count": 17,
      "outputs": [
        {
          "output_type": "stream",
          "name": "stdout",
          "text": [
            "[[   0    1    2    3    4    5    6    7    8    9]]\n",
            "\n",
            "[[   1    0    0    0    0    0    0    0    0    0]\n",
            " [   0    1    0    0    0    0    0    0    0    0]\n",
            " [   0    0    1    0    0    0    0    0    0    0]\n",
            " [   0    0    0    1    0    0    0    0    0    0]\n",
            " [   0    0    0    0    1    0    0    0    0    0]\n",
            " [   0    0    0    0    0    1    0    0    0    0]\n",
            " [   0    0    0    0    0    0    1    0    0    0]\n",
            " [   0    0    0    0    0    0    0    1    0    0]\n",
            " [   0    0    0    0    0    0    0    0    1    0]\n",
            " [   0    0    0    0    0    0    0    0    0    1]]\n"
          ]
        }
      ]
    },
    {
      "cell_type": "code",
      "source": [
        "torch.save(model.state_dict(),'Bejin212222230021.pt')"
      ],
      "metadata": {
        "id": "LmPIW0ejceqv"
      },
      "execution_count": 19,
      "outputs": []
    },
    {
      "cell_type": "code",
      "source": [],
      "metadata": {
        "id": "ShFn5dODcksZ"
      },
      "execution_count": null,
      "outputs": []
    }
  ]
}